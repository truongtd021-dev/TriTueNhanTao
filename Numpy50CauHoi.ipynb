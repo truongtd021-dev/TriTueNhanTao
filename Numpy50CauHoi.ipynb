{
 "cells": [
  {
   "cell_type": "markdown",
   "id": "10a232ea-bf1d-45fa-89d1-f617a7244186",
   "metadata": {},
   "source": [
    "## 50 câu hỏi ngắn về Numpy"
   ]
  },
  {
   "cell_type": "markdown",
   "id": "ba2c2125-17b8-416c-9233-ad9d75c89c23",
   "metadata": {},
   "source": [
    "### Câu hỏi 1: import numpy dưới bí danh np và xem phiên bản"
   ]
  },
  {
   "cell_type": "code",
   "execution_count": 32,
   "id": "fa97ab1f-f44a-41c5-acaf-040dda2423d7",
   "metadata": {},
   "outputs": [
    {
     "name": "stdout",
     "output_type": "stream",
     "text": [
      "2.2.3\n"
     ]
    }
   ],
   "source": [
    "import numpy as np\n",
    "print(np.__version__)\n"
   ]
  },
  {
   "cell_type": "markdown",
   "id": "4b8b0402-524f-4000-baa5-9e4363fceefa",
   "metadata": {},
   "source": [
    "### Câu hỏi 2: Làm thế nào để tạo mảng 1 chiều?"
   ]
  },
  {
   "cell_type": "code",
   "execution_count": 2,
   "id": "d98abb1e-ae94-4d85-8330-80914fe0ab11",
   "metadata": {},
   "outputs": [
    {
     "name": "stdout",
     "output_type": "stream",
     "text": [
      "[1 2 3 4]\n"
     ]
    }
   ],
   "source": [
    "import numpy as np\n",
    "\n",
    "arr = np.array([1, 2, 3, 4])\n",
    "print(arr)\n"
   ]
  },
  {
   "cell_type": "markdown",
   "id": "0e714350-5354-4dc2-8e4c-707b7917c706",
   "metadata": {},
   "source": [
    "### Câu hỏi 3: Làm thế nào để tạo một mảng boolean?"
   ]
  },
  {
   "cell_type": "code",
   "execution_count": null,
   "id": "536f7557-e2ee-4176-9ffd-f072660ec318",
   "metadata": {},
   "outputs": [
    {
     "name": "stdout",
     "output_type": "stream",
     "text": [
      "[True, False, True, False]\n"
     ]
    }
   ],
   "source": [
    "import numpy as np\n",
    "arr_bool = np.array = ([True, False, True, False])\n",
    "print(arr_bool)"
   ]
  },
  {
   "cell_type": "code",
   "execution_count": null,
   "id": "90907205-4682-4359-850e-898b2ef6a381",
   "metadata": {},
   "outputs": [
    {
     "name": "stdout",
     "output_type": "stream",
     "text": [
      "[False False  True  True  True]\n"
     ]
    }
   ],
   "source": [
    "import numpy as np\n",
    "\n",
    "a = np.array([1, 2, 3, 4, 5])\n",
    "arr_bool = a > 2\n",
    "print(arr_bool)  \n"
   ]
  },
  {
   "cell_type": "code",
   "execution_count": 30,
   "id": "417d8d50-0ff3-4817-b9c3-c59073457dc2",
   "metadata": {},
   "outputs": [
    {
     "name": "stdout",
     "output_type": "stream",
     "text": [
      "[ True  True  True  True  True]\n"
     ]
    }
   ],
   "source": [
    "\n",
    "import numpy as np\n",
    "\n",
    "arr_true = np.ones(5, dtype=bool)\n",
    "print(arr_true)   # [ True  True  True  True  True]\n"
   ]
  },
  {
   "cell_type": "code",
   "execution_count": 31,
   "id": "5729213c-59e5-49b1-8b8a-87fa1163d68e",
   "metadata": {},
   "outputs": [
    {
     "name": "stdout",
     "output_type": "stream",
     "text": [
      "[False False False False False]\n"
     ]
    }
   ],
   "source": [
    "import numpy as np\n",
    "\n",
    "arr_false = np.zeros(5, dtype=bool)\n",
    "print(arr_false)  # [False False False False False]\n"
   ]
  },
  {
   "cell_type": "markdown",
   "id": "670b4f62-c6d9-45f4-b4a7-7e1d305adfd2",
   "metadata": {},
   "source": [
    "### Câu hỏi 4: Làm thế nào để trích xuất các mục thỏa mãn một điều kiện nhất định từ mảng 1 chiều?\n",
    "Ví dụ: Trích xuất tất cả các số lẻ từ mảng"
   ]
  },
  {
   "cell_type": "code",
   "execution_count": null,
   "id": "6d3b4c8d-d279-49dc-92b4-c731ff9cfc5e",
   "metadata": {},
   "outputs": [
    {
     "name": "stdout",
     "output_type": "stream",
     "text": [
      "[ 3  5  7  9 11]\n"
     ]
    }
   ],
   "source": [
    "import numpy as np\n",
    "arr = np.array([2, 3, 5, 7, 8, 9, 11])\n",
    "le = arr % 2 != 0\n",
    "MangSoLe = arr[le]\n",
    "print(MangSoLe)"
   ]
  },
  {
   "cell_type": "markdown",
   "id": "4ba3b6fa-f38a-4cad-8ec8-94ae1975525d",
   "metadata": {},
   "source": [
    "### Câu hỏi 5: Làm thế nào để thay thế các mục thỏa mãn một điều kiện bằng một giá trị khác trong mảng numpy?\n",
    "Ví dụ: Thay thế tất cả các số lẻ trong arr bằng -1"
   ]
  },
  {
   "cell_type": "code",
   "execution_count": null,
   "id": "d138370c-a76c-454a-92bd-796a8768464d",
   "metadata": {},
   "outputs": [
    {
     "name": "stdout",
     "output_type": "stream",
     "text": [
      "[-1  2 -1  4 -1  6 -1]\n"
     ]
    }
   ],
   "source": [
    "import numpy as np\n",
    "arr = np.array([1, 2, 3,4, 5, 6, 7])\n",
    "arr[arr % 2 != 0] = -1\n",
    "print(arr)"
   ]
  },
  {
   "cell_type": "markdown",
   "id": "df0bed91-0e03-4335-b583-81f62649d4a5",
   "metadata": {},
   "source": [
    "### Câu hỏi 6: Làm thế nào để thay thế các mục thỏa mãn một điều kiện mà không ảnh hưởng đến mảng ban đầu?\n",
    "Ví dụ: Thay thế tất cả các số lẻ trong arr bằng -1 mà không thay đổi arr"
   ]
  },
  {
   "cell_type": "code",
   "execution_count": null,
   "id": "6df6eec0-4ce6-435c-a6da-22078b54a4ec",
   "metadata": {},
   "outputs": [
    {
     "name": "stdout",
     "output_type": "stream",
     "text": [
      "[1 2 3 4 5 6 7]\n",
      "[-1  2 -1  4 -1  6 -1]\n"
     ]
    }
   ],
   "source": [
    "import numpy as np\n",
    "arr = np.array([1, 2, 3, 4, 5, 6, 7])\n",
    "arr1 = np.where(arr % 2 != 0, -1, arr)\n",
    "print(arr)\n",
    "print(arr1)"
   ]
  },
  {
   "cell_type": "markdown",
   "id": "b647c4ae-94b2-4715-ab5f-0531ab251744",
   "metadata": {},
   "source": [
    "### Câu hỏi 7: Làm thế nào để định hình lại một mảng?"
   ]
  },
  {
   "cell_type": "code",
   "execution_count": null,
   "id": "94fb4f87-d237-4761-b53f-33f4c73faaee",
   "metadata": {},
   "outputs": [
    {
     "name": "stdout",
     "output_type": "stream",
     "text": [
      "[[1 2 3]\n",
      " [4 5 6]\n",
      " [7 8 9]]\n"
     ]
    }
   ],
   "source": [
    "import numpy as np\n",
    "arr = np.array([1, 2, 3, 4, 5, 6, 7, 8, 9])\n",
    "arr2 = arr.reshape(3, 3)\n",
    "print(arr2)"
   ]
  },
  {
   "cell_type": "markdown",
   "id": "aad1f83e-aa57-48de-a561-6dff5d937a22",
   "metadata": {},
   "source": [
    "### Câu hỏi 8: Làm thế nào để xếp chồng hai mảng theo chiều dọc?"
   ]
  },
  {
   "cell_type": "code",
   "execution_count": null,
   "id": "e067ea17-89fa-4c80-9b75-47afc3a37b56",
   "metadata": {},
   "outputs": [
    {
     "name": "stdout",
     "output_type": "stream",
     "text": [
      "[[1 2 3]\n",
      " [4 5 6]]\n"
     ]
    }
   ],
   "source": [
    "import numpy as np\n",
    "a = np.array([1, 2, 3])\n",
    "b = np.array([4, 5, 6])\n",
    "c = np.vstack((a, b))\n",
    "print(c)"
   ]
  },
  {
   "cell_type": "markdown",
   "id": "5fd2a1c2-7806-41fa-828c-06821f1de76d",
   "metadata": {},
   "source": [
    "### Câu hỏi 9: Làm thế nào để xếp chồng hai mảng theo chiều ngang?"
   ]
  },
  {
   "cell_type": "markdown",
   "id": "42773514-47ee-432d-b43c-27e45b52df5c",
   "metadata": {},
   "source": [
    "### Câu hỏi 10: Làm thế nào để tạo các chuỗi tùy chỉnh trong numpy mà không cần mã hóa cứng?\n",
    "Ví dụ: \n",
    "Input: a = np.array([1,2,3])\n",
    "\n",
    "Output: array([1, 1, 1, 2, 2, 2, 3, 3, 3, 1, 2, 3, 1, 2, 3, 1, 2, 3])"
   ]
  },
  {
   "cell_type": "code",
   "execution_count": null,
   "id": "913e6f4d-502b-48df-9911-09445526c414",
   "metadata": {},
   "outputs": [
    {
     "name": "stdout",
     "output_type": "stream",
     "text": [
      "[[1 4]\n",
      " [2 5]\n",
      " [3 6]]\n"
     ]
    }
   ],
   "source": [
    "import numpy as np\n",
    "a = np.array([1, 2, 3])\n",
    "b = np.array([4, 5, 6])\n",
    "c = np.column_stack((a, b))\n",
    "print(c)"
   ]
  },
  {
   "cell_type": "code",
   "execution_count": null,
   "id": "1b36f331-116a-4ecc-8faa-04fb7ea1453b",
   "metadata": {},
   "outputs": [
    {
     "name": "stdout",
     "output_type": "stream",
     "text": [
      "[1 1 1 2 2 2 3 3 3 1 2 3 1 2 3 1 2 3]\n"
     ]
    }
   ],
   "source": [
    "import numpy as np\n",
    "a = np.array([1, 2, 3])\n",
    "p1 = np.repeat(a, 3)\n",
    "p2 = np.tile(a, 3)\n",
    "b = np.concatenate((p1, p2))\n",
    "print(b)"
   ]
  },
  {
   "cell_type": "markdown",
   "id": "b54fabab-c8d7-4c1a-8af1-dd8b60ec8db2",
   "metadata": {},
   "source": [
    "### Câu hỏi 11. Làm thế nào để lấy các mục chung giữa hai mảng numpy python?\n",
    "Ví dụ: \n",
    "Input: a = np.array([1,2,3,2,3,4,3,4,5,6])\n",
    "\n",
    "        b = np.array([7,2,10,2,7,4,9,4,9,8])\n",
    "\n",
    "Output: array([2, 4])"
   ]
  },
  {
   "cell_type": "code",
   "execution_count": 1,
   "id": "37e0fbce-5aa9-4433-8aee-dcc0826d5e8a",
   "metadata": {},
   "outputs": [
    {
     "name": "stdout",
     "output_type": "stream",
     "text": [
      "[2 4]\n"
     ]
    }
   ],
   "source": [
    "import numpy as np\n",
    "\n",
    "a = np.array([1,2,3,2,3,4,3,4,5,6])\n",
    "b = np.array([7,2,10,2,7,4,9,4,9,8])\n",
    "\n",
    "c= np.intersect1d(a, b)\n",
    "print(c)"
   ]
  },
  {
   "cell_type": "code",
   "execution_count": 33,
   "id": "f7aee796-f481-4d56-a199-4508b24479d5",
   "metadata": {},
   "outputs": [
    {
     "name": "stdout",
     "output_type": "stream",
     "text": [
      "[2 4]\n"
     ]
    }
   ],
   "source": [
    "import numpy as np\n",
    "\n",
    "a = np.array([1,2,3,2,3,4,3,4,5,6])\n",
    "b = np.array([7,2,10,2,7,4,9,4,9,8])\n",
    "\n",
    "mask = np.isin(a, b)   \n",
    "c = a[mask]\n",
    "print(np.unique(c))   \n"
   ]
  },
  {
   "cell_type": "markdown",
   "id": "c47faf97-6034-4427-aedb-44fdc6583fdd",
   "metadata": {},
   "source": [
    "### Câu hỏi 12. Làm thế nào để xóa khỏi một mảng những mục tồn tại trong mảng khác? \n",
    "Ví dụ: Input: a = np.array([1,2,3,4,5])\n",
    "\n",
    "              b = np.array([5,6,7,8,9])\n",
    "\n",
    "Output: array([1,2,3,4])"
   ]
  },
  {
   "cell_type": "code",
   "execution_count": 3,
   "id": "d7ce62d8-c3d0-4b8e-90a1-fb86c646d86a",
   "metadata": {},
   "outputs": [
    {
     "name": "stdout",
     "output_type": "stream",
     "text": [
      "[1 2 3 4]\n"
     ]
    }
   ],
   "source": [
    "import numpy as np\n",
    "\n",
    "a = np.array([1,2,3,4,5])\n",
    "b = np.array([5,6,7,8,9])\n",
    "\n",
    "c = np.setdiff1d(a, b)\n",
    "print(c)   \n"
   ]
  },
  {
   "cell_type": "markdown",
   "id": "ef417ca6-7e7d-4ba4-8837-0c485fc073d1",
   "metadata": {},
   "source": [
    "### Câu hỏi 13. Làm thế nào để lấy các vị trí mà các phần tử của hai mảng khớp nhau?\n",
    "\n",
    "Ví dụ: \n",
    "\n",
    "Input: a = np.array([1,2,3,2,3,4,3,4,5,6])\n",
    "\n",
    "       b = np.array([7,2,10,2,7,4,9,4,9,8])\n",
    "\n",
    "Output: (array([1, 3, 5, 7]),)"
   ]
  },
  {
   "cell_type": "code",
   "execution_count": 4,
   "id": "70cffccb-0090-4cea-9ffb-d4de29fa8278",
   "metadata": {},
   "outputs": [
    {
     "name": "stdout",
     "output_type": "stream",
     "text": [
      "(array([1, 3, 5, 7]),)\n"
     ]
    }
   ],
   "source": [
    "import numpy as np\n",
    "\n",
    "a = np.array([1,2,3,2,3,4,3,4,5,6])\n",
    "b = np.array([7,2,10,2,7,4,9,4,9,8])\n",
    "\n",
    "C = np.where(a == b)\n",
    "print(C)\n"
   ]
  },
  {
   "cell_type": "markdown",
   "id": "7306243c-dbb1-43f2-bc8e-dbe7b3a4f681",
   "metadata": {},
   "source": [
    "### Câu hỏi 14. Làm thế nào để trích xuất tất cả các số trong một phạm vi nhất định từ một mảng numpy?\n",
    "\n",
    "Ví dụ: \n",
    "Input: a = np.array([2, 6, 1, 9, 10, 3, 27])\n",
    "\n",
    "Output: (array([6, 9, 10]),)"
   ]
  },
  {
   "cell_type": "code",
   "execution_count": 5,
   "id": "25ea56ca-536b-493c-8304-227a7503efc2",
   "metadata": {},
   "outputs": [
    {
     "name": "stdout",
     "output_type": "stream",
     "text": [
      "[ 6  9 10]\n"
     ]
    }
   ],
   "source": [
    "import numpy as np\n",
    "\n",
    "a = np.array([2, 6, 1, 9, 10, 3, 27])\n",
    "\n",
    "\n",
    "r = a[(a >= 5) & (a <= 10)]\n",
    "print(r)\n"
   ]
  },
  {
   "cell_type": "markdown",
   "id": "b893dc4b-ba59-41b4-9f87-bcc3934fb382",
   "metadata": {},
   "source": [
    "### Câu hỏi 16. Làm thế nào để hoán đổi hai cột trong một mảng numpy 2 chiều? "
   ]
  },
  {
   "cell_type": "code",
   "execution_count": 6,
   "id": "fbead736-b47b-444a-b88a-7e5b6aa15720",
   "metadata": {},
   "outputs": [
    {
     "name": "stdout",
     "output_type": "stream",
     "text": [
      "[[ 0  1  2  3]\n",
      " [ 4  5  6  7]\n",
      " [ 8  9 10 11]]\n",
      "[[ 2  1  0  3]\n",
      " [ 6  5  4  7]\n",
      " [10  9  8 11]]\n"
     ]
    }
   ],
   "source": [
    "import numpy as np\n",
    "\n",
    "arr = np.arange(12).reshape(3,4)\n",
    "print(arr)\n",
    "\n",
    "arr[:, [0,2]] = arr[:, [2,0]]\n",
    "\n",
    "print(arr)\n"
   ]
  },
  {
   "cell_type": "markdown",
   "id": "d54707f1-c68e-44b4-89cf-1dc8ffd8998f",
   "metadata": {},
   "source": [
    "### Câu hỏi 17. Làm thế nào để hoán đổi hai hàng trong một mảng numpy 2 chiều? "
   ]
  },
  {
   "cell_type": "code",
   "execution_count": 8,
   "id": "8bb378a3-262f-4fad-a51b-76ef632ee0c2",
   "metadata": {},
   "outputs": [
    {
     "name": "stdout",
     "output_type": "stream",
     "text": [
      "[[ 0  1  2  3]\n",
      " [ 4  5  6  7]\n",
      " [ 8  9 10 11]]\n",
      "[[ 8  9 10 11]\n",
      " [ 4  5  6  7]\n",
      " [ 0  1  2  3]]\n"
     ]
    }
   ],
   "source": [
    "import numpy as np\n",
    "\n",
    "arr = np.arange(12).reshape(3,4)\n",
    "print(arr)\n",
    "\n",
    "\n",
    "arr[[0,2], :] = arr[[2,0], :]\n",
    "\n",
    "print(arr)\n"
   ]
  },
  {
   "cell_type": "markdown",
   "id": "25edc3ac-4c20-4df2-ac99-8577cd7b7b42",
   "metadata": {},
   "source": [
    "### Câu hỏi 18. Làm thế nào để đảo ngược các hàng của một mảng 2 chiều? "
   ]
  },
  {
   "cell_type": "code",
   "execution_count": 7,
   "id": "3ab32507-507b-45d7-bd6f-c192197cec1d",
   "metadata": {},
   "outputs": [
    {
     "name": "stdout",
     "output_type": "stream",
     "text": [
      "[[ 0  1  2]\n",
      " [ 3  4  5]\n",
      " [ 6  7  8]\n",
      " [ 9 10 11]]\n",
      "[[ 9 10 11]\n",
      " [ 6  7  8]\n",
      " [ 3  4  5]\n",
      " [ 0  1  2]]\n"
     ]
    }
   ],
   "source": [
    "import numpy as np\n",
    "\n",
    "arr = np.arange(12).reshape(4,3)\n",
    "print(arr)\n",
    "\n",
    "r= arr[::-1]\n",
    "print(r)\n"
   ]
  },
  {
   "cell_type": "markdown",
   "id": "7c17facc-e4b9-4b53-8c24-39e4c2f970a3",
   "metadata": {},
   "source": [
    "### Câu hỏi 19. Làm thế nào để đảo ngược các cột của một mảng 2 chiều?"
   ]
  },
  {
   "cell_type": "code",
   "execution_count": 9,
   "id": "84d754cc-88d2-47c8-8e28-453529494432",
   "metadata": {},
   "outputs": [
    {
     "name": "stdout",
     "output_type": "stream",
     "text": [
      "[[ 0  1  2]\n",
      " [ 3  4  5]\n",
      " [ 6  7  8]\n",
      " [ 9 10 11]]\n",
      "[[ 2  1  0]\n",
      " [ 5  4  3]\n",
      " [ 8  7  6]\n",
      " [11 10  9]]\n"
     ]
    }
   ],
   "source": [
    "import numpy as np\n",
    "\n",
    "arr = np.arange(12).reshape(4,3)\n",
    "print(arr)\n",
    "\n",
    "r = arr[:, ::-1]\n",
    "print(r)\n"
   ]
  },
  {
   "cell_type": "markdown",
   "id": "f58eff0c-27fa-42f8-b4e0-bc3abef4b0eb",
   "metadata": {},
   "source": [
    "### Câu hỏi 20. Làm thế nào để tạo một mảng 2 chiều chứa các số thực ngẫu nhiên giữa 5 và 10?"
   ]
  },
  {
   "cell_type": "code",
   "execution_count": 10,
   "id": "6da67084-4816-4aa5-9395-3613e1d8f97b",
   "metadata": {},
   "outputs": [
    {
     "name": "stdout",
     "output_type": "stream",
     "text": [
      "[[6.79188326 6.63275817 9.10841585]\n",
      " [9.89387518 7.45446527 5.54148828]]\n"
     ]
    }
   ],
   "source": [
    "import numpy as np\n",
    "\n",
    "arr = np.random.uniform(5, 10, size=(2,3))\n",
    "print(arr)\n"
   ]
  },
  {
   "cell_type": "markdown",
   "id": "36d00fbe-de8e-4d6f-8836-ffd6393c4cbd",
   "metadata": {},
   "source": [
    "### Câu hỏi 21. Làm thế nào để chỉ in 3 chữ số thập phân trong mảng numpy python? "
   ]
  },
  {
   "cell_type": "code",
   "execution_count": 11,
   "id": "9091f512-888a-4df8-b349-f7a4add6dd34",
   "metadata": {},
   "outputs": [
    {
     "name": "stdout",
     "output_type": "stream",
     "text": [
      "[[2.423 6.255 5.044]\n",
      " [7.96  5.474 8.319]]\n"
     ]
    }
   ],
   "source": [
    "import numpy as np\n",
    "\n",
    "arr = np.random.random((2,3)) * 10\n",
    "np.set_printoptions(precision=3)\n",
    "\n",
    "print(arr)\n"
   ]
  },
  {
   "cell_type": "markdown",
   "id": "af507e3a-dea0-4924-ba7a-875a6349f0fa",
   "metadata": {},
   "source": [
    "### Câu hỏi 22. Làm thế nào để in đẹp một mảng numpy bằng cách loại bỏ ký hiệu khoa học (như 1e10)? "
   ]
  },
  {
   "cell_type": "code",
   "execution_count": 12,
   "id": "cbb598af-ff37-489b-a918-d50eb9f857c5",
   "metadata": {},
   "outputs": [
    {
     "name": "stdout",
     "output_type": "stream",
     "text": [
      "[1.230e+10 2.340e-10 1.235e+08]\n"
     ]
    }
   ],
   "source": [
    "import numpy as np\n",
    "\n",
    "arr = np.array([1.23e10, 2.34e-10, 123456789])\n",
    "np.set_printoptions(suppress=True)\n",
    "\n",
    "print(arr)\n"
   ]
  },
  {
   "cell_type": "markdown",
   "id": "b725f530-f49c-4ab4-bba0-84c472c1db5f",
   "metadata": {},
   "source": [
    "### Câu hỏi 24. Làm thế nào để in toàn bộ mảng numpy mà không cần cắt bớt"
   ]
  },
  {
   "cell_type": "code",
   "execution_count": 13,
   "id": "7fbac810-aacf-45cc-984e-985452ce30a1",
   "metadata": {},
   "outputs": [
    {
     "name": "stdout",
     "output_type": "stream",
     "text": [
      "[ 0  1  2  3  4  5  6  7  8  9 10 11 12 13 14 15 16 17 18 19 20 21 22 23\n",
      " 24 25 26 27 28 29 30 31 32 33 34 35 36 37 38 39 40 41 42 43 44 45 46 47\n",
      " 48 49 50 51 52 53 54 55 56 57 58 59 60 61 62 63 64 65 66 67 68 69 70 71\n",
      " 72 73 74 75 76 77 78 79 80 81 82 83 84 85 86 87 88 89 90 91 92 93 94 95\n",
      " 96 97 98 99]\n"
     ]
    }
   ],
   "source": [
    "import numpy as np\n",
    "\n",
    "arr = np.arange(100)  # mảng 0..99\n",
    "np.set_printoptions(threshold=np.inf)\n",
    "\n",
    "print(arr)\n"
   ]
  },
  {
   "cell_type": "markdown",
   "id": "250594ef-54ee-442f-a1dd-f677391488f4",
   "metadata": {},
   "source": [
    "### Câu hỏi 28. Làm thế nào để tính giá trị trung bình, trung vị, độ lệch chuẩn của một mảng numpy?"
   ]
  },
  {
   "cell_type": "code",
   "execution_count": 16,
   "id": "b22d13c6-9897-4993-891c-a7cffa1a72cf",
   "metadata": {},
   "outputs": [
    {
     "name": "stdout",
     "output_type": "stream",
     "text": [
      "Trung binh: 3.0\n",
      "Trung vi: 3.0\n",
      "Do lech chuan: 1.4142135623730951\n"
     ]
    }
   ],
   "source": [
    "import numpy as np\n",
    "\n",
    "mang = np.array([1, 2, 3, 4, 5])\n",
    "\n",
    "trung_binh = np.mean(mang)    \n",
    "trung_vi = np.median(mang)   \n",
    "do_lech_chuan = np.std(mang)   \n",
    "\n",
    "print(\"Trung binh:\", trung_binh)\n",
    "print(\"Trung vi:\", trung_vi)\n",
    "print(\"Do lech chuan:\", do_lech_chuan)\n"
   ]
  },
  {
   "cell_type": "markdown",
   "id": "596dc0c1-921f-427a-ab3f-8fe074055b97",
   "metadata": {},
   "source": [
    "### Câu hỏi 29. Làm thế nào để chuẩn hóa một mảng sao cho các giá trị nằm chính xác trong khoảng từ 0 đến 1?"
   ]
  },
  {
   "cell_type": "code",
   "execution_count": 15,
   "id": "ba9f6c0d-b516-40ee-8753-6e24cf2e1622",
   "metadata": {},
   "outputs": [
    {
     "name": "stdout",
     "output_type": "stream",
     "text": [
      "[0.   0.25 0.5  0.75 1.  ]\n"
     ]
    }
   ],
   "source": [
    "import numpy as np\n",
    "\n",
    "arr = np.array([10, 20, 30, 40, 50])\n",
    "normalized = (arr - arr.min()) / (arr.max() - arr.min())\n",
    "\n",
    "print(normalized)\n"
   ]
  },
  {
   "cell_type": "markdown",
   "id": "49b934f2-45a0-40b4-b31b-d21a4d03b12b",
   "metadata": {},
   "source": [
    "### Câu hỏi 30. Làm thế nào để tính điểm softmax?"
   ]
  },
  {
   "cell_type": "code",
   "execution_count": 20,
   "id": "aa22c936-122d-40e4-9906-cd913ed252f4",
   "metadata": {},
   "outputs": [
    {
     "name": "stdout",
     "output_type": "stream",
     "text": [
      "[0.659 0.242 0.099]\n",
      "[[0.09  0.245 0.665]\n",
      " [0.09  0.245 0.665]]\n"
     ]
    }
   ],
   "source": [
    "import numpy as np\n",
    "\n",
    "def softmax(x, axis=-1):\n",
    "    x = np.asarray(x)\n",
    "    xs = x - np.max(x, axis=axis, keepdims=True)\n",
    "    exps = np.exp(xs)\n",
    "    return exps / np.sum(exps, axis=axis, keepdims=True)\n",
    "\n",
    "v = np.array([2.0, 1.0, 0.1])\n",
    "print(softmax(v))\n",
    "\n",
    "m = np.array([[1., 2., 3.],\n",
    "              [1., 2., 3.]])\n",
    "print(softmax(m, axis=1))\n"
   ]
  },
  {
   "cell_type": "markdown",
   "id": "f0a73488-1cc4-429f-bd78-3746e01eb8cb",
   "metadata": {},
   "source": [
    "### Câu hỏi 32. Làm thế nào để chèn các giá trị ở các vị trí ngẫu nhiên trong một mảng?\n",
    "\n",
    "Ví dụ: Chèn giá trị 0 vào 20 vị trí ngẫu nhiên trong tập dữ liệu a"
   ]
  },
  {
   "cell_type": "code",
   "execution_count": 21,
   "id": "aaced55b-5524-48fc-b34e-53def3efad28",
   "metadata": {},
   "outputs": [
    {
     "name": "stdout",
     "output_type": "stream",
     "text": [
      "[ 0  0  2  0  4  5  0  7  8  9 10 11 12 13 14  0 16 17 18 19 20 21  0 23\n",
      " 24 25  0 27 28 29 30 31 32 33 34 35 36 37 38 39 40 41  0 43 44 45  0 47\n",
      " 48 49 50 51  0  0 54  0 56  0 58  0 60  0 62 63 64 65 66 67  0 69  0 71\n",
      " 72  0 74 75 76 77 78 79 80 81 82  0 84 85 86 87 88 89 90 91  0  0 94 95\n",
      " 96 97 98 99]\n"
     ]
    }
   ],
   "source": [
    "import numpy as np\n",
    "\n",
    "rng = np.random.default_rng(0)\n",
    "a = np.arange(100)\n",
    "idx = rng.choice(len(a), size=20, replace=False)  # 20 vị trí ngẫu nhiên, không trùng\n",
    "a[idx] = 0\n",
    "print(a)\n"
   ]
  },
  {
   "cell_type": "markdown",
   "id": "736e5117-61cd-48c1-9ae8-278926e586a7",
   "metadata": {},
   "source": [
    "### Câu hỏi 34. Làm thế nào để lọc một mảng numpy dựa trên hai hoặc nhiều điều kiện?\n",
    "\n",
    "Ví dụ: Lọc các hàng của a có các giá trị của (cột thứ 3) > 1,5 và các giá trị (cột thứ 1) < 5,0"
   ]
  },
  {
   "cell_type": "code",
   "execution_count": 22,
   "id": "eee1ae75-f872-4e53-9fbe-48f9a2a7f3bb",
   "metadata": {},
   "outputs": [
    {
     "name": "stdout",
     "output_type": "stream",
     "text": [
      "[[4.2 0.3 1.6]\n",
      " [2.  0.5 2.2]]\n"
     ]
    }
   ],
   "source": [
    "import numpy as np\n",
    "\n",
    "a = np.array([[4.2, 0.3, 1.6],\n",
    "              [5.1, 2.2, 1.7],\n",
    "              [3.9, 1.8, 1.4],\n",
    "              [2.0, 0.5, 2.2]])\n",
    "\n",
    "mask = (a[:, 2] > 1.5) & (a[:, 0] < 5.0)   \n",
    "f = a[mask]\n",
    "print(f)\n"
   ]
  },
  {
   "cell_type": "markdown",
   "id": "9626f29b-cf5f-4809-a11c-076b7d01d208",
   "metadata": {},
   "source": [
    "### Câu hỏi 36. Làm thế nào để tìm mối tương quan giữa hai cột của mảng numpy?"
   ]
  },
  {
   "cell_type": "code",
   "execution_count": 23,
   "id": "e685409d-a6ed-431a-8ee4-15ae5924c9f1",
   "metadata": {},
   "outputs": [
    {
     "name": "stdout",
     "output_type": "stream",
     "text": [
      "He so tuong quan Pearson: 1.0\n"
     ]
    }
   ],
   "source": [
    "import numpy as np\n",
    "\n",
    "a = np.array([[1,  2,  3],\n",
    "              [2,  4,  6],\n",
    "              [3,  6,  9],\n",
    "              [4,  8, 12]], dtype=float)\n",
    "\n",
    "col_i, col_j = 0, 1\n",
    "r = np.corrcoef(a[:, col_i], a[:, col_j])[0, 1]\n",
    "print(\"He so tuong quan Pearson:\", r)\n"
   ]
  },
  {
   "cell_type": "markdown",
   "id": "42ac071e-15c2-44e8-993c-ee2a66edf97a",
   "metadata": {},
   "source": [
    "### Câu hỏi 44. Làm thế nào để sắp xếp một mảng 2D theo một cột"
   ]
  },
  {
   "cell_type": "code",
   "execution_count": 24,
   "id": "4ba105e4-647b-4ae7-8671-638aa6468c44",
   "metadata": {},
   "outputs": [
    {
     "name": "stdout",
     "output_type": "stream",
     "text": [
      "[[1 5]\n",
      " [2 6]\n",
      " [3 7]]\n"
     ]
    }
   ],
   "source": [
    "import numpy as np\n",
    "\n",
    "a = np.array([[3, 7],\n",
    "              [1, 5],\n",
    "              [2, 6]])\n",
    "\n",
    "col = 0                   \n",
    "a_sorted = a[a[:, col].argsort()]         \n",
    "\n",
    "print(a_sorted)\n"
   ]
  },
  {
   "cell_type": "markdown",
   "id": "dcad8b50-44ec-45a6-a5e1-fae8a41a7383",
   "metadata": {},
   "source": [
    "### Câu hỏi 45. Làm thế nào để tìm giá trị thường xuyên nhất trong một mảng numpy?"
   ]
  },
  {
   "cell_type": "code",
   "execution_count": 25,
   "id": "1fe6bc89-5a24-438e-9f03-d86068264574",
   "metadata": {},
   "outputs": [
    {
     "name": "stdout",
     "output_type": "stream",
     "text": [
      "3\n"
     ]
    }
   ],
   "source": [
    "import numpy as np\n",
    "\n",
    "x = np.array([1,2,2,3,3,3,4])\n",
    "\n",
    "vals, counts = np.unique(x, return_counts=True)\n",
    "m = vals[counts.argmax()]\n",
    "print(m)   \n"
   ]
  },
  {
   "cell_type": "markdown",
   "id": "8ee0cae4-980e-42de-a93f-26292bea412a",
   "metadata": {},
   "source": [
    "### Câu hỏi 47. Làm thế nào để thay thế tất cả các giá trị lớn hơn một giá trị nhất định thành một ngưỡng nhất định?\n",
    "\n",
    "Ví dụ: Từ mảng a, thay thế tất cả các giá trị lớn hơn 30 đến 30 và nhỏ hơn 10 đến 10."
   ]
  },
  {
   "cell_type": "code",
   "execution_count": 26,
   "id": "1e9fd9da-6f5e-4231-974d-704a76d043b3",
   "metadata": {},
   "outputs": [
    {
     "name": "stdout",
     "output_type": "stream",
     "text": [
      "[10 12 30 10 27 30]\n"
     ]
    }
   ],
   "source": [
    "import numpy as np\n",
    "\n",
    "a = np.array([5, 12, 35, 8, 27, 100])\n",
    "o = np.clip(a, 10, 30)\n",
    "print(o)  \n"
   ]
  },
  {
   "cell_type": "markdown",
   "id": "a1368ddb-268a-4706-ae39-b1a293703752",
   "metadata": {},
   "source": [
    "### Câu hỏi 48. Làm thế nào để lấy vị trí của n giá trị hàng đầu từ một mảng numpy?\n",
    "\n",
    "Ví dụ: Lấy vị trí của 5 giá trị lớn nhất trong một mảng cho trước a."
   ]
  },
  {
   "cell_type": "code",
   "execution_count": 27,
   "id": "caba299c-0f72-4cf8-b8d6-0f40cefcecbc",
   "metadata": {},
   "outputs": [
    {
     "name": "stdout",
     "output_type": "stream",
     "text": [
      "[1 3 4]\n"
     ]
    }
   ],
   "source": [
    "import numpy as np\n",
    "\n",
    "a = np.array([10, 50, 20, 40, 30])\n",
    "n = 3\n",
    "\n",
    "idx = np.argpartition(-a, n-1)[:n]        \n",
    "idx = idx[np.argsort(-a[idx])]           \n",
    "print(idx)                               \n"
   ]
  },
  {
   "cell_type": "markdown",
   "id": "76cd6a89-fd68-4002-9037-3ef72673f260",
   "metadata": {},
   "source": [
    "### Câu hỏi 50. Làm thế nào để chuyển đổi một mảng các mảng thành một mảng phẳng 1 chiều?"
   ]
  },
  {
   "cell_type": "code",
   "execution_count": null,
   "id": "d99a1f88-57fe-4d54-bf95-7ad7e91490af",
   "metadata": {},
   "outputs": [],
   "source": [
    "import numpy as np\n",
    "\n",
    "a = np.array([[1, 2, 3],\n",
    "              [4, 5, 6]])\n",
    "\n",
    "f = a.flatten()\n",
    "print(f)  \n"
   ]
  },
  {
   "cell_type": "code",
   "execution_count": 28,
   "id": "59fc39ef-b0f0-446f-9c89-6a82afbaed89",
   "metadata": {},
   "outputs": [
    {
     "name": "stdout",
     "output_type": "stream",
     "text": [
      "[1 2 3 4 5 6]\n"
     ]
    }
   ],
   "source": [
    "import numpy as np\n",
    "\n",
    "a = np.array([[1, 2, 3],\n",
    "              [4, 5, 6]])\n",
    "\n",
    "m = a.ravel()\n",
    "print(m)  \n"
   ]
  }
 ],
 "metadata": {
  "kernelspec": {
   "display_name": "Python 3",
   "language": "python",
   "name": "python3"
  },
  "language_info": {
   "codemirror_mode": {
    "name": "ipython",
    "version": 3
   },
   "file_extension": ".py",
   "mimetype": "text/x-python",
   "name": "python",
   "nbconvert_exporter": "python",
   "pygments_lexer": "ipython3",
   "version": "3.13.2"
  }
 },
 "nbformat": 4,
 "nbformat_minor": 5
}
